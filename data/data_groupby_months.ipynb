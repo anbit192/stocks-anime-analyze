{
 "cells": [
  {
   "cell_type": "code",
   "execution_count": 1,
   "metadata": {},
   "outputs": [],
   "source": [
    "import pandas as pd\n",
    "import numpy as np"
   ]
  },
  {
   "cell_type": "code",
   "execution_count": 11,
   "metadata": {},
   "outputs": [
    {
     "name": "stderr",
     "output_type": "stream",
     "text": [
      "C:\\Users\\Admin\\AppData\\Local\\Temp\\ipykernel_17876\\3523058506.py:1: UserWarning: Converting to PeriodArray/Index representation will drop timezone information.\n",
      "  pd.to_datetime(df[\"Date\"]).dt.to_period(\"M\")\n"
     ]
    },
    {
     "data": {
      "text/plain": [
       "0       2014-01\n",
       "1       2014-01\n",
       "2       2014-01\n",
       "3       2014-01\n",
       "4       2014-01\n",
       "         ...   \n",
       "2731    2024-11\n",
       "2732    2024-11\n",
       "2733    2024-11\n",
       "2734    2024-11\n",
       "2735    2024-11\n",
       "Name: Date, Length: 2736, dtype: period[M]"
      ]
     },
     "execution_count": 11,
     "metadata": {},
     "output_type": "execute_result"
    }
   ],
   "source": [
    "pd.to_datetime(df[\"Date\"]).dt.to_period(\"M\")"
   ]
  },
  {
   "cell_type": "code",
   "execution_count": 18,
   "metadata": {},
   "outputs": [],
   "source": [
    "df = pd.read_csv(\"NTDOY-stock.csv\")\n",
    "df[\"Date\"] = pd.to_datetime(df[\"Date\"])"
   ]
  },
  {
   "cell_type": "code",
   "execution_count": 21,
   "metadata": {},
   "outputs": [],
   "source": [
    "temp = df.groupby(pd.Grouper(key=\"Date\", freq=\"M\")).mean()\n",
    "temp.to_csv(\"NTDOY-months.csv\")"
   ]
  }
 ],
 "metadata": {
  "kernelspec": {
   "display_name": "Python 3",
   "language": "python",
   "name": "python3"
  },
  "language_info": {
   "codemirror_mode": {
    "name": "ipython",
    "version": 3
   },
   "file_extension": ".py",
   "mimetype": "text/x-python",
   "name": "python",
   "nbconvert_exporter": "python",
   "pygments_lexer": "ipython3",
   "version": "3.11.3"
  }
 },
 "nbformat": 4,
 "nbformat_minor": 2
}
