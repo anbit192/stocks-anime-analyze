{
 "cells": [
  {
   "cell_type": "code",
   "execution_count": 6,
   "metadata": {},
   "outputs": [],
   "source": [
    "import yfinance as yf\n",
    "import pandas as pd"
   ]
  },
  {
   "cell_type": "code",
   "execution_count": 7,
   "metadata": {},
   "outputs": [],
   "source": [
    "tickers = [\"VFS\"]\n",
    "\n",
    "start_date = \"2023-01-01\" \n",
    "end_date = \"\""
   ]
  },
  {
   "cell_type": "code",
   "execution_count": 8,
   "metadata": {},
   "outputs": [
    {
     "name": "stderr",
     "output_type": "stream",
     "text": [
      "[*********************100%***********************]  1 of 1 completed"
     ]
    },
    {
     "name": "stdout",
     "output_type": "stream",
     "text": [
      "<class 'pandas.core.frame.DataFrame'>\n",
      "DatetimeIndex: 319 entries, 2023-08-14 00:00:00+00:00 to 2024-11-15 00:00:00+00:00\n",
      "Data columns (total 6 columns):\n",
      " #   Column            Non-Null Count  Dtype  \n",
      "---  ------            --------------  -----  \n",
      " 0   (VFS, Open)       319 non-null    float64\n",
      " 1   (VFS, High)       319 non-null    float64\n",
      " 2   (VFS, Low)        319 non-null    float64\n",
      " 3   (VFS, Close)      319 non-null    float64\n",
      " 4   (VFS, Adj Close)  319 non-null    float64\n",
      " 5   (VFS, Volume)     319 non-null    int64  \n",
      "dtypes: float64(5), int64(1)\n",
      "memory usage: 17.4 KB\n"
     ]
    },
    {
     "name": "stderr",
     "output_type": "stream",
     "text": [
      "\n"
     ]
    }
   ],
   "source": [
    "data = yf.download(tickers=tickers, start=start_date, group_by=\"ticker\")\n",
    "data.info()"
   ]
  },
  {
   "cell_type": "code",
   "execution_count": 9,
   "metadata": {},
   "outputs": [
    {
     "data": {
      "text/plain": [
       "array(['VFS'], dtype=object)"
      ]
     },
     "execution_count": 9,
     "metadata": {},
     "output_type": "execute_result"
    }
   ],
   "source": [
    "ticker_names = data.columns.get_level_values(0).unique().to_numpy()\n",
    "ticker_names"
   ]
  },
  {
   "cell_type": "code",
   "execution_count": 10,
   "metadata": {},
   "outputs": [],
   "source": [
    "for ticker in ticker_names:\n",
    "    temp = data[ticker].reset_index()\n",
    "    temp.columns.rename(None, inplace=True)\n",
    "    temp.to_csv(f\"{ticker}-stock.csv\", index=False)"
   ]
  }
 ],
 "metadata": {
  "kernelspec": {
   "display_name": "Python 3",
   "language": "python",
   "name": "python3"
  },
  "language_info": {
   "codemirror_mode": {
    "name": "ipython",
    "version": 3
   },
   "file_extension": ".py",
   "mimetype": "text/x-python",
   "name": "python",
   "nbconvert_exporter": "python",
   "pygments_lexer": "ipython3",
   "version": "3.12.1"
  }
 },
 "nbformat": 4,
 "nbformat_minor": 2
}
