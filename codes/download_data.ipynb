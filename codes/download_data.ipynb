{
 "cells": [
  {
   "cell_type": "code",
   "execution_count": 1,
   "metadata": {},
   "outputs": [],
   "source": [
    "import yfinance as yf\n",
    "import pandas as pd"
   ]
  },
  {
   "cell_type": "code",
   "execution_count": 2,
   "metadata": {},
   "outputs": [],
   "source": [
    "tickers = [\"SONY\",\n",
    "           \"NFLX\",\n",
    "           \"DIS\",\n",
    "           \"NTDOY\",\n",
    "           \"SQNXF\"]\n",
    "\n",
    "start_date = \"2014-01-01\" \n",
    "end_date = \"\""
   ]
  },
  {
   "cell_type": "code",
   "execution_count": 3,
   "metadata": {},
   "outputs": [
    {
     "name": "stderr",
     "output_type": "stream",
     "text": [
      "[*********************100%***********************]  5 of 5 completed"
     ]
    },
    {
     "name": "stdout",
     "output_type": "stream",
     "text": [
      "<class 'pandas.core.frame.DataFrame'>\n",
      "DatetimeIndex: 2738 entries, 2014-01-02 00:00:00+00:00 to 2024-11-15 00:00:00+00:00\n",
      "Data columns (total 30 columns):\n",
      " #   Column              Non-Null Count  Dtype  \n",
      "---  ------              --------------  -----  \n",
      " 0   (SQNXF, Open)       2738 non-null   float64\n",
      " 1   (SQNXF, High)       2738 non-null   float64\n",
      " 2   (SQNXF, Low)        2738 non-null   float64\n",
      " 3   (SQNXF, Close)      2738 non-null   float64\n",
      " 4   (SQNXF, Adj Close)  2738 non-null   float64\n",
      " 5   (SQNXF, Volume)     2738 non-null   int64  \n",
      " 6   (NFLX, Open)        2738 non-null   float64\n",
      " 7   (NFLX, High)        2738 non-null   float64\n",
      " 8   (NFLX, Low)         2738 non-null   float64\n",
      " 9   (NFLX, Close)       2738 non-null   float64\n",
      " 10  (NFLX, Adj Close)   2738 non-null   float64\n",
      " 11  (NFLX, Volume)      2738 non-null   int64  \n",
      " 12  (NTDOY, Open)       2738 non-null   float64\n",
      " 13  (NTDOY, High)       2738 non-null   float64\n",
      " 14  (NTDOY, Low)        2738 non-null   float64\n",
      " 15  (NTDOY, Close)      2738 non-null   float64\n",
      " 16  (NTDOY, Adj Close)  2738 non-null   float64\n",
      " 17  (NTDOY, Volume)     2738 non-null   int64  \n",
      " 18  (DIS, Open)         2738 non-null   float64\n",
      " 19  (DIS, High)         2738 non-null   float64\n",
      " 20  (DIS, Low)          2738 non-null   float64\n",
      " 21  (DIS, Close)        2738 non-null   float64\n",
      " 22  (DIS, Adj Close)    2738 non-null   float64\n",
      " 23  (DIS, Volume)       2738 non-null   int64  \n",
      " 24  (SONY, Open)        2738 non-null   float64\n",
      " 25  (SONY, High)        2738 non-null   float64\n",
      " 26  (SONY, Low)         2738 non-null   float64\n",
      " 27  (SONY, Close)       2738 non-null   float64\n",
      " 28  (SONY, Adj Close)   2738 non-null   float64\n",
      " 29  (SONY, Volume)      2738 non-null   int64  \n",
      "dtypes: float64(25), int64(5)\n",
      "memory usage: 663.1 KB\n"
     ]
    },
    {
     "name": "stderr",
     "output_type": "stream",
     "text": [
      "\n"
     ]
    }
   ],
   "source": [
    "data = yf.download(tickers=tickers, start=start_date, group_by=\"ticker\")\n",
    "data.info()"
   ]
  },
  {
   "cell_type": "code",
   "execution_count": 4,
   "metadata": {},
   "outputs": [],
   "source": [
    "data.to_csv(\"stocks.csv\", index=True)"
   ]
  }
 ],
 "metadata": {
  "kernelspec": {
   "display_name": "Python 3",
   "language": "python",
   "name": "python3"
  },
  "language_info": {
   "codemirror_mode": {
    "name": "ipython",
    "version": 3
   },
   "file_extension": ".py",
   "mimetype": "text/x-python",
   "name": "python",
   "nbconvert_exporter": "python",
   "pygments_lexer": "ipython3",
   "version": "3.11.3"
  }
 },
 "nbformat": 4,
 "nbformat_minor": 2
}
