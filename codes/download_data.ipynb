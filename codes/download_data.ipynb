{
 "cells": [
  {
   "cell_type": "code",
   "execution_count": 4,
   "metadata": {},
   "outputs": [],
   "source": [
    "import yfinance as yf\n",
    "import pandas as pd"
   ]
  },
  {
   "cell_type": "code",
   "execution_count": 11,
   "metadata": {},
   "outputs": [],
   "source": [
    "tickers = [\"SONY\",\n",
    "           \"NFLX\",\n",
    "           \"DIS\",\n",
    "           \"NTDOY\",\n",
    "           \"SQNXF\"]\n",
    "\n",
    "start_date = \"2014-01-01\" \n",
    "end_date = \"\""
   ]
  },
  {
   "cell_type": "code",
   "execution_count": 12,
   "metadata": {},
   "outputs": [
    {
     "name": "stderr",
     "output_type": "stream",
     "text": [
      "[*********************100%***********************]  5 of 5 completed\n"
     ]
    },
    {
     "name": "stdout",
     "output_type": "stream",
     "text": [
      "<class 'pandas.core.frame.DataFrame'>\n",
      "DatetimeIndex: 2736 entries, 2014-01-02 00:00:00+00:00 to 2024-11-13 00:00:00+00:00\n",
      "Data columns (total 30 columns):\n",
      " #   Column              Non-Null Count  Dtype  \n",
      "---  ------              --------------  -----  \n",
      " 0   (NFLX, Open)        2736 non-null   float64\n",
      " 1   (NFLX, High)        2736 non-null   float64\n",
      " 2   (NFLX, Low)         2736 non-null   float64\n",
      " 3   (NFLX, Close)       2736 non-null   float64\n",
      " 4   (NFLX, Adj Close)   2736 non-null   float64\n",
      " 5   (NFLX, Volume)      2736 non-null   int64  \n",
      " 6   (SONY, Open)        2736 non-null   float64\n",
      " 7   (SONY, High)        2736 non-null   float64\n",
      " 8   (SONY, Low)         2736 non-null   float64\n",
      " 9   (SONY, Close)       2736 non-null   float64\n",
      " 10  (SONY, Adj Close)   2736 non-null   float64\n",
      " 11  (SONY, Volume)      2736 non-null   int64  \n",
      " 12  (DIS, Open)         2736 non-null   float64\n",
      " 13  (DIS, High)         2736 non-null   float64\n",
      " 14  (DIS, Low)          2736 non-null   float64\n",
      " 15  (DIS, Close)        2736 non-null   float64\n",
      " 16  (DIS, Adj Close)    2736 non-null   float64\n",
      " 17  (DIS, Volume)       2736 non-null   int64  \n",
      " 18  (SQNXF, Open)       2736 non-null   float64\n",
      " 19  (SQNXF, High)       2736 non-null   float64\n",
      " 20  (SQNXF, Low)        2736 non-null   float64\n",
      " 21  (SQNXF, Close)      2736 non-null   float64\n",
      " 22  (SQNXF, Adj Close)  2736 non-null   float64\n",
      " 23  (SQNXF, Volume)     2736 non-null   int64  \n",
      " 24  (NTDOY, Open)       2736 non-null   float64\n",
      " 25  (NTDOY, High)       2736 non-null   float64\n",
      " 26  (NTDOY, Low)        2736 non-null   float64\n",
      " 27  (NTDOY, Close)      2736 non-null   float64\n",
      " 28  (NTDOY, Adj Close)  2736 non-null   float64\n",
      " 29  (NTDOY, Volume)     2736 non-null   int64  \n",
      "dtypes: float64(25), int64(5)\n",
      "memory usage: 662.6 KB\n"
     ]
    }
   ],
   "source": [
    "data = yf.download(tickers=tickers, start=start_date, group_by=\"ticker\")\n",
    "data.info()"
   ]
  },
  {
   "cell_type": "code",
   "execution_count": 13,
   "metadata": {},
   "outputs": [],
   "source": [
    "data.to_csv(\"stocks.csv\", index=True)"
   ]
  }
 ],
 "metadata": {
  "kernelspec": {
   "display_name": "Python 3",
   "language": "python",
   "name": "python3"
  },
  "language_info": {
   "codemirror_mode": {
    "name": "ipython",
    "version": 3
   },
   "file_extension": ".py",
   "mimetype": "text/x-python",
   "name": "python",
   "nbconvert_exporter": "python",
   "pygments_lexer": "ipython3",
   "version": "3.11.3"
  }
 },
 "nbformat": 4,
 "nbformat_minor": 2
}
